{
 "metadata": {
  "name": ""
 },
 "nbformat": 3,
 "nbformat_minor": 0,
 "worksheets": [
  {
   "cells": [
    {
     "cell_type": "code",
     "collapsed": false,
     "input": [
      "import numpy as np\n",
      "import csv\n",
      "import pandas as pd\n",
      "from numpy import *\n",
      "\n",
      "def readdata(filename):\n",
      "   reader = np.genfromtxt(filename, dtype=[('mystring','S5'),('myfloat','f8')], delimiter=\",\",skip_header=1)\n",
      "   return reader\n",
      "\n",
      "def remove_nan(data):\n",
      "    for i in data:\n",
      "        if isnan(i[1]):\n",
      "            i[1] = 0\n",
      "\n",
      "def writetofile(filename, data):\n",
      "    csvfile = file(filename, 'wb') ## write to a csv file\n",
      "    writer = csv.writer(csvfile)\n",
      "    writer.writerows(data)\n",
      "    csvfile.close()\n",
      "    \n",
      "raw_data = readdata('population.csv')\n",
      "remove_nan(raw_data)\n",
      "writetofile(\"population_cleaned.csv\",raw_data)"
     ],
     "language": "python",
     "metadata": {},
     "outputs": [],
     "prompt_number": 1
    },
    {
     "cell_type": "code",
     "collapsed": false,
     "input": [
      "print raw_data"
     ],
     "language": "python",
     "metadata": {},
     "outputs": [
      {
       "output_type": "stream",
       "stream": "stdout",
       "text": [
        "[('Aruba', 24289.14152) ('Andor', 0.0) ('Afgha', 561.1976175)\n",
        " ('Angol', 4218.649126) ('Alban', 3764.326348) ('Arab ', 6047.841257)\n",
        " ('Unite', 34048.53025) ('Argen', 9132.957259) ('Armen', 3124.788199)\n",
        " ('Ameri', 0.0) ('Antig', 13315.24327) ('Austr', 51746.11693)\n",
        " ('Austr', 44723.20394) ('Azerb', 5843.169753) ('Burun', 219.5297995)\n",
        " ('Belgi', 42960.41969) ('Benin', 689.6483313) ('Burki', 592.6074699)\n",
        " ('Bangl', 664.0642317) ('Bulga', 6334.682132) ('Bahra', 20545.98827)\n",
        " ('Baham', 21881.08394) ('Bosni', 4361.877138) ('Belar', 5818.854859)\n",
        " ('Beliz', 4529.885449) ('Bermu', 88207.32756) ('Boliv', 1934.675258)\n",
        " ('Brazi', 10978.09355) ('Barba', 15812.27978) ('Brune', 30880.34486)\n",
        " ('Bhuta', 2211.232907) ('Botsw', 6980.361809) ('Sub-S', 0.0)\n",
        " ('Centr', 456.5634087) ('Canad', 46211.53386) ('East ', 0.0)\n",
        " ('Europ', 0.0) ('Switz', 70370.01637) ('Chann', 0.0)\n",
        " ('Chile', 12684.93232) ('China', 4433.36122) ('Cote ', 1207.84514)\n",
        " ('Latin', 0.0) ('Middl', 0.0) ('Camer', 1090.619066)\n",
        " ('Congo', 2920.406708) ('Colom', 6179.399054) ('Comor', 795.4784368)\n",
        " ('Cape ', 3413.263369) ('Costa', 7773.185476) ('South', 0.0)\n",
        " ('Carib', 8588.746458) ('Cuba', 5701.962671) ('Curac', 0.0) ('Cayma', 0.0)\n",
        " ('Cypru', 27889.03718) ('Czech', 18866.85523) ('Germa', 40144.50942)\n",
        " ('Djibo', 0.0) ('Domin', 6630.195154) ('Denma', 56485.89444)\n",
        " ('Domin', 5166.150359) ('Alger', 4349.569325) ('East ', 3885.15356)\n",
        " ('East ', 7414.704562) ('Europ', 6138.336529) ('Europ', 22538.72416)\n",
        " ('Ecuad', 4500.591558) ('Egypt', 2803.532963) ('Euro ', 36346.86908)\n",
        " ('Eritr', 368.7477582) ('Spain', 29862.96489) ('Eston', 14109.7834)\n",
        " ('Ethio', 302.0980047) ('Europ', 32073.93277) ('Finla', 43846.30319)\n",
        " ('Fiji', 3747.674635) ('Franc', 39186.02244) ('Faero', 0.0)\n",
        " ('Micro', 2838.448841) ('Gabon', 9321.955869) ('Unite', 36703.36179)\n",
        " ('Georg', 2613.689508) ('Ghana', 1326.066112) ('Guine', 435.448888)\n",
        " ('Gambi', 566.3353254) ('Guine', 526.5210239) ('Equat', 17612.75793)\n",
        " ('Greec', 25850.50196) ('Grena', 7485.905205) ('Green', 0.0)\n",
        " ('Guate', 2882.400219) ('Guam', 0.0) ('Guyan', 2873.951538)\n",
        " ('High ', 35365.48046) ('Hong ', 32558.26248) ('Hondu', 2063.931749)\n",
        " ('Heavi', 692.6344654) ('Croat', 13326.50628) ('Haiti', 670.4032924)\n",
        " ('Hunga', 12750.29865) ('Indon', 2946.656059) ('Isle ', 0.0)\n",
        " ('India', 1419.105666) ('Not c', 0.0) ('Irela', 46492.06014)\n",
        " (\"Iran'\", 5674.923927) ('Iraq', 4375.906225) ('Icela', 39507.14423)\n",
        " ('Israe', 30389.12219) ('Italy', 33760.58975) ('Jamai', 4887.827039)\n",
        " ('Jorda', 4370.721033) ('Japan', 43117.76827) ('Kazak', 9070.009729)\n",
        " ('Kenya', 787.0639352) ('Kyrgy', 880.0385141) ('Cambo', 782.6188886)\n",
        " ('Kirib', 1539.047436) ('St. K', 12904.06685) ('Korea', 20540.17693)\n",
        " ('Kosov', 3238.646286) ('Kuwai', 40090.74627) ('Latin', 8451.346885)\n",
        " ('Lao P', 1122.852316) ('Leban', 8551.852416) ('Liber', 326.6042804)\n",
        " ('Libya', 0.0) ('St. L', 6814.396924) ('Latin', 8758.709771)\n",
        " ('Least', 702.5589241) ('Low i', 514.4096161) ('Liech', 0.0)\n",
        " ('Sri L', 2400.015575) ('Lower', 1710.234275) ('Low &', 3320.237586)\n",
        " ('Lesot', 1097.02433) ('Lithu', 11046.05185) ('Luxem', 102009.3527)\n",
        " ('Latvi', 10723.35626) ('Macao', 53045.87903) ('St. M', 0.0)\n",
        " ('Moroc', 2822.733739) ('Monac', 145229.8379) ('Moldo', 1631.533195)\n",
        " ('Madag', 419.2238133) ('Maldi', 6552.484491) ('Middl', 7073.627109)\n",
        " ('Mexic', 8884.560103) ('Marsh', 3112.840467) ('Middl', 3792.22955)\n",
        " ('Maced', 4442.295954) ('Mali', 673.6946614) ('Malta', 19624.85381)\n",
        " ('Myanm', 0.0) ('Middl', 3988.363216) ('Monte', 6635.90802)\n",
        " ('Mongo', 2285.645378) ('North', 0.0) ('Mozam', 386.9631655)\n",
        " ('Mauri', 1017.166278) ('Mauri', 7586.969533) ('Malaw', 359.5795268)\n",
        " ('Malay', 8754.24282) ('North', 48152.03135) ('Namib', 5078.51302)\n",
        " ('New C', 0.0) ('Niger', 359.801242) ('Niger', 1437.048907)\n",
        " ('Nicar', 1474.748819) ('Nethe', 46468.4009) ('High ', 16281.49791)\n",
        " ('Norwa', 86155.52905) ('Nepal', 596.3785934) ('New Z', 32796.09016)\n",
        " ('High ', 39897.46368) ('OECD ', 35002.07921) ('Oman', 20983.90034)\n",
        " ('Other', 4273.572893) ('Pakis', 1024.588886) ('Panam', 7229.112201)\n",
        " ('Peru', 5386.007238) ('Phili', 2135.918407) ('Palau', 9601.530341)\n",
        " ('Papua', 1382.143749) ('Polan', 12302.02992) ('Puert', 26106.38803)\n",
        " ('Korea', 0.0) ('Portu', 21381.90396) ('Parag', 3100.50164)\n",
        " ('Pacif', 2904.19054) ('Frenc', 0.0) ('Qatar', 71510.15575)\n",
        " ('Roman', 7670.303763) ('Russi', 10709.51196) ('Rwand', 519.0223545)\n",
        " ('South', 1290.674988) ('Saudi', 19326.58255) ('Sudan', 1422.368103)\n",
        " ('Seneg', 998.5995764) ('Singa', 42783.72245) ('Solom', 1289.067051)\n",
        " ('Sierr', 447.7533238) ('El Sa', 3444.456148) ('San M', 0.0)\n",
        " ('Somal', 0.0) ('Serbi', 5073.074945) ('Sub-S', 1311.505531)\n",
        " ('South', 1526.917011) ('Sub-S', 1324.762532) ('Small', 5214.296259)\n",
        " ('Sao T', 1127.981667) ('Surin', 8320.64783) ('Slova', 16036.06927)\n",
        " ('Slove', 22897.93876) ('Swede', 49359.86692) ('Swazi', 3093.53953)\n",
        " ('Sint ', 0.0) ('Seych', 10805.09942) ('Syria', 2746.85381) ('Turks', 0.0)\n",
        " ('Chad', 909.2999069) ('Togo', 503.1617885) ('Thail', 4802.662758)\n",
        " ('Tajik', 739.7378228) ('Turkm', 4392.719583) ('Timor', 817.766621)\n",
        " ('Tonga', 3546.77782) ('Trini', 15561.84749) ('Tunis', 4206.779922)\n",
        " ('Turke', 10135.42092) ('Tuval', 3238.496111) ('Tanza', 524.6937886)\n",
        " ('Ugand', 505.9876849) ('Ukrai', 2973.981709) ('Upper', 5943.796494)\n",
        " ('Urugu', 11520.2937) ('Unite', 48357.68451) ('Uzbek', 1377.082143)\n",
        " ('St. V', 6172.582317) ('Venez', 13559.33182) ('Virgi', 0.0)\n",
        " ('Vietn', 1333.583526) ('Vanua', 2965.75121) ('West ', 0.0)\n",
        " ('World', 9307.167804) ('Samoa', 3075.651529) ('Yemen', 1400.667685)\n",
        " ('South', 7266.078871) ('Congo', 211.2643588) ('Zambi', 1224.953863)\n",
        " ('Zimba', 568.4275419)]\n"
       ]
      }
     ],
     "prompt_number": 2
    },
    {
     "cell_type": "code",
     "collapsed": false,
     "input": [
      "dtype = [('name', 'S10'), ('height', float), ('age', int)]\n",
      "\n",
      "values = [('Arthur', 1.8, 41), ('Lancelot', 1.9, 38),('Galahad', 1.7, 38)]\n",
      "a = np.array(values, dtype=dtype)"
     ],
     "language": "python",
     "metadata": {},
     "outputs": [],
     "prompt_number": 57
    },
    {
     "cell_type": "code",
     "collapsed": false,
     "input": [
      "values = [('Arthur', 1.8, 41), ('Lancelot', 1.9, 38),('Galahad', 1.7, 38)]\n",
      "print values[1]"
     ],
     "language": "python",
     "metadata": {},
     "outputs": [
      {
       "output_type": "stream",
       "stream": "stdout",
       "text": [
        "('Lancelot', 1.9, 38)\n"
       ]
      }
     ],
     "prompt_number": 71
    },
    {
     "cell_type": "code",
     "collapsed": false,
     "input": [],
     "language": "python",
     "metadata": {},
     "outputs": []
    }
   ],
   "metadata": {}
  }
 ]
}